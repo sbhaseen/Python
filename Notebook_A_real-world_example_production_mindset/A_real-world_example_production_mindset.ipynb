{
 "cells": [
  {
   "cell_type": "markdown",
   "metadata": {},
   "source": [
    "# A real-world example and production mindset\n",
    "\n",
    "The motivation behind this project is to demonstrate what I had to do for a real-world analysis and how it was to develop with a production mindset. At a high level, this is mostly prototyping with some final observations that can lead to a production pipelines. I will also attempt to highlight the business cases for each part of the analysis, because at the end of the day data science and analytics exists to find insights that drive business decisions.\n",
    "\n",
    "<p>\n",
    "An old acquaintance approached me regarding my foray into data science and analytics. After some discussion, I was requested to assist with some historical data analysis and thus requested if I could showcase a portion of this work. It was agreed upon that I may use some of the work, so long as any real names and operation specifics would be left out or obfuscated.\n",
    "</p>\n",
    "\n",
    "<p>\n",
    "For some context, the business deals with content delivery apps that rate interactions with various service providers. \n",
    "</p>"
   ]
  },
  {
   "cell_type": "markdown",
   "metadata": {},
   "source": [
    "## 1. - Transactional data and user interactions\n",
    "In the first section, we look at some orders that pass through the backend and explore the various interactions of users and business partners. From a business perspective, this is useful in determining information such as peak times and other events that lead to increased demand, high value clients and potential allocation of business resources.\n",
    "\n",
    "Let's start with the usual imports for data manipulation, then proceed to read in the data and examine the head and tail."
   ]
  },
  {
   "cell_type": "code",
   "execution_count": 1,
   "metadata": {},
   "outputs": [],
   "source": [
    "import pandas as pd\n",
    "import numpy as np"
   ]
  },
  {
   "cell_type": "code",
   "execution_count": 2,
   "metadata": {},
   "outputs": [
    {
     "data": {
      "text/html": [
       "<div>\n",
       "<style scoped>\n",
       "    .dataframe tbody tr th:only-of-type {\n",
       "        vertical-align: middle;\n",
       "    }\n",
       "\n",
       "    .dataframe tbody tr th {\n",
       "        vertical-align: top;\n",
       "    }\n",
       "\n",
       "    .dataframe thead th {\n",
       "        text-align: right;\n",
       "    }\n",
       "</style>\n",
       "<table border=\"1\" class=\"dataframe\">\n",
       "  <thead>\n",
       "    <tr style=\"text-align: right;\">\n",
       "      <th></th>\n",
       "      <th>Date</th>\n",
       "      <th>Time</th>\n",
       "      <th>User</th>\n",
       "      <th>Partner</th>\n",
       "      <th>Status</th>\n",
       "      <th>Transaction ($)</th>\n",
       "      <th>Category</th>\n",
       "      <th>Sequence Time (min:sec)</th>\n",
       "    </tr>\n",
       "  </thead>\n",
       "  <tbody>\n",
       "    <tr>\n",
       "      <th>0</th>\n",
       "      <td>8/30/2015</td>\n",
       "      <td>7:22 PM</td>\n",
       "      <td>192749</td>\n",
       "      <td>RTAEBO</td>\n",
       "      <td>ACCEPTED</td>\n",
       "      <td>11.30</td>\n",
       "      <td>E</td>\n",
       "      <td>0:14</td>\n",
       "    </tr>\n",
       "    <tr>\n",
       "      <th>1</th>\n",
       "      <td>8/30/2015</td>\n",
       "      <td>7:47 PM</td>\n",
       "      <td>697640</td>\n",
       "      <td>G43YQ1</td>\n",
       "      <td>REJECTED</td>\n",
       "      <td>8.60</td>\n",
       "      <td>C</td>\n",
       "      <td>10:18</td>\n",
       "    </tr>\n",
       "    <tr>\n",
       "      <th>2</th>\n",
       "      <td>8/30/2015</td>\n",
       "      <td>7:13 PM</td>\n",
       "      <td>192749</td>\n",
       "      <td>5I5LAT</td>\n",
       "      <td>REJECTED</td>\n",
       "      <td>4.19</td>\n",
       "      <td>E</td>\n",
       "      <td>0:36</td>\n",
       "    </tr>\n",
       "    <tr>\n",
       "      <th>3</th>\n",
       "      <td>8/30/2015</td>\n",
       "      <td>7:11 PM</td>\n",
       "      <td>192749</td>\n",
       "      <td>5I5LAT</td>\n",
       "      <td>REJECTED</td>\n",
       "      <td>4.19</td>\n",
       "      <td>E</td>\n",
       "      <td>0:23</td>\n",
       "    </tr>\n",
       "    <tr>\n",
       "      <th>4</th>\n",
       "      <td>8/30/2015</td>\n",
       "      <td>7:16 PM</td>\n",
       "      <td>192749</td>\n",
       "      <td>5I5LAT</td>\n",
       "      <td>REJECTED</td>\n",
       "      <td>4.19</td>\n",
       "      <td>E</td>\n",
       "      <td>0:17</td>\n",
       "    </tr>\n",
       "  </tbody>\n",
       "</table>\n",
       "</div>"
      ],
      "text/plain": [
       "        Date     Time    User Partner    Status  Transaction ($) Category  \\\n",
       "0  8/30/2015  7:22 PM  192749  RTAEBO  ACCEPTED            11.30        E   \n",
       "1  8/30/2015  7:47 PM  697640  G43YQ1  REJECTED             8.60        C   \n",
       "2  8/30/2015  7:13 PM  192749  5I5LAT  REJECTED             4.19        E   \n",
       "3  8/30/2015  7:11 PM  192749  5I5LAT  REJECTED             4.19        E   \n",
       "4  8/30/2015  7:16 PM  192749  5I5LAT  REJECTED             4.19        E   \n",
       "\n",
       "  Sequence Time (min:sec)  \n",
       "0                    0:14  \n",
       "1                   10:18  \n",
       "2                    0:36  \n",
       "3                    0:23  \n",
       "4                    0:17  "
      ]
     },
     "execution_count": 2,
     "metadata": {},
     "output_type": "execute_result"
    }
   ],
   "source": [
    "df1 = pd.read_csv('datasets/dataset1.csv')\n",
    "df1.head()"
   ]
  },
  {
   "cell_type": "code",
   "execution_count": 3,
   "metadata": {},
   "outputs": [
    {
     "data": {
      "text/html": [
       "<div>\n",
       "<style scoped>\n",
       "    .dataframe tbody tr th:only-of-type {\n",
       "        vertical-align: middle;\n",
       "    }\n",
       "\n",
       "    .dataframe tbody tr th {\n",
       "        vertical-align: top;\n",
       "    }\n",
       "\n",
       "    .dataframe thead th {\n",
       "        text-align: right;\n",
       "    }\n",
       "</style>\n",
       "<table border=\"1\" class=\"dataframe\">\n",
       "  <thead>\n",
       "    <tr style=\"text-align: right;\">\n",
       "      <th></th>\n",
       "      <th>Date</th>\n",
       "      <th>Time</th>\n",
       "      <th>User</th>\n",
       "      <th>Partner</th>\n",
       "      <th>Status</th>\n",
       "      <th>Transaction ($)</th>\n",
       "      <th>Category</th>\n",
       "      <th>Sequence Time (min:sec)</th>\n",
       "    </tr>\n",
       "  </thead>\n",
       "  <tbody>\n",
       "    <tr>\n",
       "      <th>3834</th>\n",
       "      <td>9/3/2015</td>\n",
       "      <td>8:32 AM</td>\n",
       "      <td>172171</td>\n",
       "      <td>4E0GZ9</td>\n",
       "      <td>ACCEPTED</td>\n",
       "      <td>1.94</td>\n",
       "      <td>C</td>\n",
       "      <td>1:04</td>\n",
       "    </tr>\n",
       "    <tr>\n",
       "      <th>3835</th>\n",
       "      <td>9/3/2015</td>\n",
       "      <td>7:40 AM</td>\n",
       "      <td>987192</td>\n",
       "      <td>4E0GZ9</td>\n",
       "      <td>CANCELLED</td>\n",
       "      <td>1.94</td>\n",
       "      <td>C</td>\n",
       "      <td>NaN</td>\n",
       "    </tr>\n",
       "    <tr>\n",
       "      <th>3836</th>\n",
       "      <td>9/3/2015</td>\n",
       "      <td>7:32 AM</td>\n",
       "      <td>844451</td>\n",
       "      <td>KOZM4L</td>\n",
       "      <td>ACCEPTED</td>\n",
       "      <td>1.58</td>\n",
       "      <td>C</td>\n",
       "      <td>0:25</td>\n",
       "    </tr>\n",
       "    <tr>\n",
       "      <th>3837</th>\n",
       "      <td>9/3/2015</td>\n",
       "      <td>8:10 AM</td>\n",
       "      <td>801690</td>\n",
       "      <td>UK1GEQ</td>\n",
       "      <td>ACCEPTED</td>\n",
       "      <td>1.47</td>\n",
       "      <td>C</td>\n",
       "      <td>1:18</td>\n",
       "    </tr>\n",
       "    <tr>\n",
       "      <th>3838</th>\n",
       "      <td>9/3/2015</td>\n",
       "      <td>9:14 AM</td>\n",
       "      <td>619584</td>\n",
       "      <td>UK1GEQ</td>\n",
       "      <td>ACCEPTED</td>\n",
       "      <td>1.47</td>\n",
       "      <td>C</td>\n",
       "      <td>0:18</td>\n",
       "    </tr>\n",
       "  </tbody>\n",
       "</table>\n",
       "</div>"
      ],
      "text/plain": [
       "          Date     Time    User Partner     Status  Transaction ($) Category  \\\n",
       "3834  9/3/2015  8:32 AM  172171  4E0GZ9   ACCEPTED             1.94        C   \n",
       "3835  9/3/2015  7:40 AM  987192  4E0GZ9  CANCELLED             1.94        C   \n",
       "3836  9/3/2015  7:32 AM  844451  KOZM4L   ACCEPTED             1.58        C   \n",
       "3837  9/3/2015  8:10 AM  801690  UK1GEQ   ACCEPTED             1.47        C   \n",
       "3838  9/3/2015  9:14 AM  619584  UK1GEQ   ACCEPTED             1.47        C   \n",
       "\n",
       "     Sequence Time (min:sec)  \n",
       "3834                    1:04  \n",
       "3835                     NaN  \n",
       "3836                    0:25  \n",
       "3837                    1:18  \n",
       "3838                    0:18  "
      ]
     },
     "execution_count": 3,
     "metadata": {},
     "output_type": "execute_result"
    }
   ],
   "source": [
    "df1.tail()"
   ]
  },
  {
   "cell_type": "code",
   "execution_count": 4,
   "metadata": {},
   "outputs": [
    {
     "name": "stdout",
     "output_type": "stream",
     "text": [
      "<class 'pandas.core.frame.DataFrame'>\n",
      "RangeIndex: 3839 entries, 0 to 3838\n",
      "Data columns (total 8 columns):\n",
      "Date                       3839 non-null object\n",
      "Time                       3839 non-null object\n",
      "User                       3839 non-null int64\n",
      "Partner                    3839 non-null object\n",
      "Status                     3839 non-null object\n",
      "Transaction ($)            3839 non-null float64\n",
      "Category                   3839 non-null object\n",
      "Sequence Time (min:sec)    3822 non-null object\n",
      "dtypes: float64(1), int64(1), object(6)\n",
      "memory usage: 240.0+ KB\n"
     ]
    }
   ],
   "source": [
    "df1.info()"
   ]
  },
  {
   "cell_type": "markdown",
   "metadata": {},
   "source": [
    "Observing that there are some null values, it is a good idea to explore where they occur and attempt to determine why."
   ]
  },
  {
   "cell_type": "code",
   "execution_count": 5,
   "metadata": {},
   "outputs": [
    {
     "data": {
      "text/html": [
       "<div>\n",
       "<style scoped>\n",
       "    .dataframe tbody tr th:only-of-type {\n",
       "        vertical-align: middle;\n",
       "    }\n",
       "\n",
       "    .dataframe tbody tr th {\n",
       "        vertical-align: top;\n",
       "    }\n",
       "\n",
       "    .dataframe thead th {\n",
       "        text-align: right;\n",
       "    }\n",
       "</style>\n",
       "<table border=\"1\" class=\"dataframe\">\n",
       "  <thead>\n",
       "    <tr style=\"text-align: right;\">\n",
       "      <th></th>\n",
       "      <th>Date</th>\n",
       "      <th>Time</th>\n",
       "      <th>User</th>\n",
       "      <th>Partner</th>\n",
       "      <th>Status</th>\n",
       "      <th>Transaction ($)</th>\n",
       "      <th>Category</th>\n",
       "      <th>Sequence Time (min:sec)</th>\n",
       "    </tr>\n",
       "  </thead>\n",
       "  <tbody>\n",
       "    <tr>\n",
       "      <th>270</th>\n",
       "      <td>8/31/2015</td>\n",
       "      <td>7:02 AM</td>\n",
       "      <td>376269</td>\n",
       "      <td>1HFZX3</td>\n",
       "      <td>CANCELLED</td>\n",
       "      <td>12.43</td>\n",
       "      <td>C</td>\n",
       "      <td>NaN</td>\n",
       "    </tr>\n",
       "    <tr>\n",
       "      <th>317</th>\n",
       "      <td>8/31/2015</td>\n",
       "      <td>11:54 AM</td>\n",
       "      <td>802368</td>\n",
       "      <td>66CCIF</td>\n",
       "      <td>CANCELLED</td>\n",
       "      <td>11.79</td>\n",
       "      <td>C</td>\n",
       "      <td>NaN</td>\n",
       "    </tr>\n",
       "    <tr>\n",
       "      <th>406</th>\n",
       "      <td>8/31/2015</td>\n",
       "      <td>11:36 AM</td>\n",
       "      <td>375782</td>\n",
       "      <td>KIAD9J</td>\n",
       "      <td>CANCELLED</td>\n",
       "      <td>10.51</td>\n",
       "      <td>C</td>\n",
       "      <td>NaN</td>\n",
       "    </tr>\n",
       "    <tr>\n",
       "      <th>724</th>\n",
       "      <td>8/31/2015</td>\n",
       "      <td>11:44 AM</td>\n",
       "      <td>656236</td>\n",
       "      <td>TENC59</td>\n",
       "      <td>CANCELLED</td>\n",
       "      <td>6.22</td>\n",
       "      <td>C</td>\n",
       "      <td>NaN</td>\n",
       "    </tr>\n",
       "    <tr>\n",
       "      <th>887</th>\n",
       "      <td>8/31/2015</td>\n",
       "      <td>10:45 PM</td>\n",
       "      <td>852434</td>\n",
       "      <td>O6S3BJ</td>\n",
       "      <td>CANCELLED</td>\n",
       "      <td>2.63</td>\n",
       "      <td>B</td>\n",
       "      <td>NaN</td>\n",
       "    </tr>\n",
       "    <tr>\n",
       "      <th>1445</th>\n",
       "      <td>9/1/2015</td>\n",
       "      <td>6:25 PM</td>\n",
       "      <td>728136</td>\n",
       "      <td>KUMYVP</td>\n",
       "      <td>CANCELLED</td>\n",
       "      <td>10.11</td>\n",
       "      <td>C</td>\n",
       "      <td>NaN</td>\n",
       "    </tr>\n",
       "    <tr>\n",
       "      <th>1559</th>\n",
       "      <td>9/1/2015</td>\n",
       "      <td>2:22 PM</td>\n",
       "      <td>307389</td>\n",
       "      <td>KQ143B</td>\n",
       "      <td>CANCELLED</td>\n",
       "      <td>8.48</td>\n",
       "      <td>C</td>\n",
       "      <td>NaN</td>\n",
       "    </tr>\n",
       "    <tr>\n",
       "      <th>1652</th>\n",
       "      <td>9/1/2015</td>\n",
       "      <td>12:11 PM</td>\n",
       "      <td>703945</td>\n",
       "      <td>CICECE</td>\n",
       "      <td>CANCELLED</td>\n",
       "      <td>6.46</td>\n",
       "      <td>C</td>\n",
       "      <td>NaN</td>\n",
       "    </tr>\n",
       "    <tr>\n",
       "      <th>1681</th>\n",
       "      <td>9/1/2015</td>\n",
       "      <td>9:04 AM</td>\n",
       "      <td>116929</td>\n",
       "      <td>59GUWG</td>\n",
       "      <td>CANCELLED</td>\n",
       "      <td>5.38</td>\n",
       "      <td>C</td>\n",
       "      <td>NaN</td>\n",
       "    </tr>\n",
       "    <tr>\n",
       "      <th>1789</th>\n",
       "      <td>9/1/2015</td>\n",
       "      <td>1:09 PM</td>\n",
       "      <td>237407</td>\n",
       "      <td>CICECE</td>\n",
       "      <td>CANCELLED</td>\n",
       "      <td>3.26</td>\n",
       "      <td>C</td>\n",
       "      <td>NaN</td>\n",
       "    </tr>\n",
       "    <tr>\n",
       "      <th>1824</th>\n",
       "      <td>9/1/2015</td>\n",
       "      <td>12:10 PM</td>\n",
       "      <td>703945</td>\n",
       "      <td>7V03NL</td>\n",
       "      <td>CANCELLED</td>\n",
       "      <td>2.75</td>\n",
       "      <td>C</td>\n",
       "      <td>NaN</td>\n",
       "    </tr>\n",
       "    <tr>\n",
       "      <th>2017</th>\n",
       "      <td>9/2/2015</td>\n",
       "      <td>11:16 AM</td>\n",
       "      <td>660854</td>\n",
       "      <td>66CCIF</td>\n",
       "      <td>CANCELLED</td>\n",
       "      <td>14.67</td>\n",
       "      <td>C</td>\n",
       "      <td>NaN</td>\n",
       "    </tr>\n",
       "    <tr>\n",
       "      <th>2358</th>\n",
       "      <td>9/2/2015</td>\n",
       "      <td>11:46 AM</td>\n",
       "      <td>938800</td>\n",
       "      <td>D68YJF</td>\n",
       "      <td>CANCELLED</td>\n",
       "      <td>10.11</td>\n",
       "      <td>A</td>\n",
       "      <td>NaN</td>\n",
       "    </tr>\n",
       "    <tr>\n",
       "      <th>3032</th>\n",
       "      <td>9/3/2015</td>\n",
       "      <td>10:53 AM</td>\n",
       "      <td>740361</td>\n",
       "      <td>FNG052</td>\n",
       "      <td>CANCELLED</td>\n",
       "      <td>13.61</td>\n",
       "      <td>D</td>\n",
       "      <td>NaN</td>\n",
       "    </tr>\n",
       "    <tr>\n",
       "      <th>3095</th>\n",
       "      <td>9/3/2015</td>\n",
       "      <td>8:09 AM</td>\n",
       "      <td>747742</td>\n",
       "      <td>BZLPKD</td>\n",
       "      <td>CANCELLED</td>\n",
       "      <td>13.45</td>\n",
       "      <td>D</td>\n",
       "      <td>NaN</td>\n",
       "    </tr>\n",
       "    <tr>\n",
       "      <th>3662</th>\n",
       "      <td>9/3/2015</td>\n",
       "      <td>10:47 AM</td>\n",
       "      <td>880353</td>\n",
       "      <td>A1AAHF</td>\n",
       "      <td>CANCELLED</td>\n",
       "      <td>6.00</td>\n",
       "      <td>A</td>\n",
       "      <td>NaN</td>\n",
       "    </tr>\n",
       "    <tr>\n",
       "      <th>3835</th>\n",
       "      <td>9/3/2015</td>\n",
       "      <td>7:40 AM</td>\n",
       "      <td>987192</td>\n",
       "      <td>4E0GZ9</td>\n",
       "      <td>CANCELLED</td>\n",
       "      <td>1.94</td>\n",
       "      <td>C</td>\n",
       "      <td>NaN</td>\n",
       "    </tr>\n",
       "  </tbody>\n",
       "</table>\n",
       "</div>"
      ],
      "text/plain": [
       "           Date      Time    User Partner     Status  Transaction ($)  \\\n",
       "270   8/31/2015   7:02 AM  376269  1HFZX3  CANCELLED            12.43   \n",
       "317   8/31/2015  11:54 AM  802368  66CCIF  CANCELLED            11.79   \n",
       "406   8/31/2015  11:36 AM  375782  KIAD9J  CANCELLED            10.51   \n",
       "724   8/31/2015  11:44 AM  656236  TENC59  CANCELLED             6.22   \n",
       "887   8/31/2015  10:45 PM  852434  O6S3BJ  CANCELLED             2.63   \n",
       "1445   9/1/2015   6:25 PM  728136  KUMYVP  CANCELLED            10.11   \n",
       "1559   9/1/2015   2:22 PM  307389  KQ143B  CANCELLED             8.48   \n",
       "1652   9/1/2015  12:11 PM  703945  CICECE  CANCELLED             6.46   \n",
       "1681   9/1/2015   9:04 AM  116929  59GUWG  CANCELLED             5.38   \n",
       "1789   9/1/2015   1:09 PM  237407  CICECE  CANCELLED             3.26   \n",
       "1824   9/1/2015  12:10 PM  703945  7V03NL  CANCELLED             2.75   \n",
       "2017   9/2/2015  11:16 AM  660854  66CCIF  CANCELLED            14.67   \n",
       "2358   9/2/2015  11:46 AM  938800  D68YJF  CANCELLED            10.11   \n",
       "3032   9/3/2015  10:53 AM  740361  FNG052  CANCELLED            13.61   \n",
       "3095   9/3/2015   8:09 AM  747742  BZLPKD  CANCELLED            13.45   \n",
       "3662   9/3/2015  10:47 AM  880353  A1AAHF  CANCELLED             6.00   \n",
       "3835   9/3/2015   7:40 AM  987192  4E0GZ9  CANCELLED             1.94   \n",
       "\n",
       "     Category Sequence Time (min:sec)  \n",
       "270         C                     NaN  \n",
       "317         C                     NaN  \n",
       "406         C                     NaN  \n",
       "724         C                     NaN  \n",
       "887         B                     NaN  \n",
       "1445        C                     NaN  \n",
       "1559        C                     NaN  \n",
       "1652        C                     NaN  \n",
       "1681        C                     NaN  \n",
       "1789        C                     NaN  \n",
       "1824        C                     NaN  \n",
       "2017        C                     NaN  \n",
       "2358        A                     NaN  \n",
       "3032        D                     NaN  \n",
       "3095        D                     NaN  \n",
       "3662        A                     NaN  \n",
       "3835        C                     NaN  "
      ]
     },
     "execution_count": 5,
     "metadata": {},
     "output_type": "execute_result"
    }
   ],
   "source": [
    "df1[df1.isnull().any(axis=1)]"
   ]
  },
  {
   "cell_type": "markdown",
   "metadata": {},
   "source": [
    "The NaN values in the column \"Sequence Time\" seem to occur because they correspond with cancelled transactions, so these values will be left as is. From a business standpoint, it might be beneficial to correlate this with other data and understand why a transaction was cancelled, but that was beyond the scope of this analysis."
   ]
  },
  {
   "cell_type": "markdown",
   "metadata": {},
   "source": [
    "### 1.1 - Determining how many unique business partners received orders on a particular date\n",
    "This was fairly straightforward as the data frame takes a single date (Sep. 3, 2015) slice, followed by finding the unique count of the \"Partner\" column."
   ]
  },
  {
   "cell_type": "code",
   "execution_count": 6,
   "metadata": {},
   "outputs": [
    {
     "data": {
      "text/plain": [
       "106"
      ]
     },
     "execution_count": 6,
     "metadata": {},
     "output_type": "execute_result"
    }
   ],
   "source": [
    "df1[df1['Date']=='9/3/2015']['Partner'].nunique()"
   ]
  },
  {
   "cell_type": "markdown",
   "metadata": {},
   "source": [
    "### 1.2 - Finding the highest number of successful transactions on a single day with a given category\n",
    "To determine this, a conditional slice of Status and Category is used followed by a grouping by date and size aggregation. Applying the max function to all this yields the highest value and which day it occurs on."
   ]
  },
  {
   "cell_type": "code",
   "execution_count": 7,
   "metadata": {},
   "outputs": [
    {
     "data": {
      "text/plain": [
       "Date      9/3/2015\n",
       "counts         737\n",
       "dtype: object"
      ]
     },
     "execution_count": 7,
     "metadata": {},
     "output_type": "execute_result"
    }
   ],
   "source": [
    "df1[(df1['Status'] == 'ACCEPTED') & \n",
    "    (df1['Category'] == 'C')].groupby('Date').size().reset_index(name='counts').max()"
   ]
  },
  {
   "cell_type": "markdown",
   "metadata": {},
   "source": [
    "### 1.3 - A useful point for marketing strategy: high spending customers\n",
    "For this, the highest amount of money a user spent during the time period of the dataset was aggregated from all accepted orders.\n",
    "This approach is similar to the one above, however due the users ID being numerical sequence, ```reset_index()``` cannot be used to return a pair as above. \n",
    "\n",
    "(As an aside, if ```rest_index()``` is used and ```max()``` is called, it will create a non-index \"user\" column separately and return two maximum values that do not relate.)"
   ]
  },
  {
   "cell_type": "code",
   "execution_count": 8,
   "metadata": {},
   "outputs": [
    {
     "data": {
      "text/plain": [
       "Transaction ($)    293.12\n",
       "dtype: float64"
      ]
     },
     "execution_count": 8,
     "metadata": {},
     "output_type": "execute_result"
    }
   ],
   "source": [
    "df1[(df1['Status'] == 'ACCEPTED')].groupby('User').sum().max()"
   ]
  },
  {
   "cell_type": "markdown",
   "metadata": {},
   "source": [
    "To solve this is a more readable manner, a new data frame is created which slices the maximum value and return both the user number and associated transaction sum. \n",
    "\n",
    "(Note: While this is fine for such a relatively small data set such as this, it may not scale well to very large sets in which case more computationally efficient methods should be applied such as the “query” method. See documentation [here]( https://pandas.pydata.org/pandas-docs/stable/indexing.html#performance-of-query))"
   ]
  },
  {
   "cell_type": "code",
   "execution_count": 9,
   "metadata": {},
   "outputs": [
    {
     "data": {
      "text/html": [
       "<div>\n",
       "<style scoped>\n",
       "    .dataframe tbody tr th:only-of-type {\n",
       "        vertical-align: middle;\n",
       "    }\n",
       "\n",
       "    .dataframe tbody tr th {\n",
       "        vertical-align: top;\n",
       "    }\n",
       "\n",
       "    .dataframe thead th {\n",
       "        text-align: right;\n",
       "    }\n",
       "</style>\n",
       "<table border=\"1\" class=\"dataframe\">\n",
       "  <thead>\n",
       "    <tr style=\"text-align: right;\">\n",
       "      <th></th>\n",
       "      <th>Transaction ($)</th>\n",
       "    </tr>\n",
       "    <tr>\n",
       "      <th>User</th>\n",
       "      <th></th>\n",
       "    </tr>\n",
       "  </thead>\n",
       "  <tbody>\n",
       "    <tr>\n",
       "      <th>145158</th>\n",
       "      <td>293.12</td>\n",
       "    </tr>\n",
       "  </tbody>\n",
       "</table>\n",
       "</div>"
      ],
      "text/plain": [
       "        Transaction ($)\n",
       "User                   \n",
       "145158           293.12"
      ]
     },
     "execution_count": 9,
     "metadata": {},
     "output_type": "execute_result"
    }
   ],
   "source": [
    "high_value_user = df1[(df1['Status']=='ACCEPTED')].groupby('User').sum()\n",
    "high_value_user[high_value_user['Transaction ($)'] == high_value_user['Transaction ($)'].max()]"
   ]
  },
  {
   "cell_type": "markdown",
   "metadata": {},
   "source": [
    "### 1.4 - Transaction times and business response\n",
    "Based on historical trends unique to this business's operations, a response time of under 1 minute is considered ideal, thus to find the times, the data frame can be sliced using categories relating to a particular day and having a response time less than a minute. Here, a particular day (Tuesday, Sep. 1, 2015) was chosen to determine what pecentage of all transactions on that day were faster than a minute.\n",
    "\n",
    "Recalling from the ```df1.info()``` method earlier, there were some NaN values in the \"Sequence Time\" column, thus only non-null values will be considered, which means filtering out transactions that were cancelled."
   ]
  },
  {
   "cell_type": "markdown",
   "metadata": {},
   "source": [
    "First, the total number of transactions on that day are calculated."
   ]
  },
  {
   "cell_type": "code",
   "execution_count": 10,
   "metadata": {},
   "outputs": [
    {
     "data": {
      "text/plain": [
       "935"
      ]
     },
     "execution_count": 10,
     "metadata": {},
     "output_type": "execute_result"
    }
   ],
   "source": [
    "len(df1[(df1['Date'] == '9/1/2015') & (df1['Status'] != 'CANCELLED')])"
   ]
  },
  {
   "cell_type": "markdown",
   "metadata": {},
   "source": [
    "This is followed by calculating all the transactions less than the ideal response time."
   ]
  },
  {
   "cell_type": "code",
   "execution_count": 11,
   "metadata": {},
   "outputs": [
    {
     "data": {
      "text/plain": [
       "632"
      ]
     },
     "execution_count": 11,
     "metadata": {},
     "output_type": "execute_result"
    }
   ],
   "source": [
    "len(df1[(df1['Date'] == '9/1/2015') & (df1['Sequence Time (min:sec)']<'1:00')])"
   ]
  },
  {
   "cell_type": "markdown",
   "metadata": {},
   "source": [
    "However, it can all be determined in a (slightly messy) single line."
   ]
  },
  {
   "cell_type": "code",
   "execution_count": 12,
   "metadata": {},
   "outputs": [
    {
     "data": {
      "text/plain": [
       "67.59358288770053"
      ]
     },
     "execution_count": 12,
     "metadata": {},
     "output_type": "execute_result"
    }
   ],
   "source": [
    "len(df1[(df1['Date'] == '9/1/2015') &\n",
    "        (df1['Sequence Time (min:sec)']<'1:00')]) / len(df1[(df1['Date'] == '9/1/2015') &\n",
    "                                                            (df1['Status'] != 'CANCELLED')]) * 100"
   ]
  },
  {
   "cell_type": "markdown",
   "metadata": {},
   "source": [
    "## 2. - Service improvement and analysis\n",
    "\n",
    "The second part of the analysis deals with analyzing user feedback about business partners. This provides both users and partners to determine which operations work well and which can use improvement.\n",
    "\n",
    "To begin, the second dataset is read in and the head and tail are examined."
   ]
  },
  {
   "cell_type": "code",
   "execution_count": 13,
   "metadata": {},
   "outputs": [
    {
     "data": {
      "text/html": [
       "<div>\n",
       "<style scoped>\n",
       "    .dataframe tbody tr th:only-of-type {\n",
       "        vertical-align: middle;\n",
       "    }\n",
       "\n",
       "    .dataframe tbody tr th {\n",
       "        vertical-align: top;\n",
       "    }\n",
       "\n",
       "    .dataframe thead th {\n",
       "        text-align: right;\n",
       "    }\n",
       "</style>\n",
       "<table border=\"1\" class=\"dataframe\">\n",
       "  <thead>\n",
       "    <tr style=\"text-align: right;\">\n",
       "      <th></th>\n",
       "      <th>Date</th>\n",
       "      <th>Partner</th>\n",
       "      <th>Score</th>\n",
       "      <th>UX</th>\n",
       "      <th>Transaction Experience</th>\n",
       "      <th>Process Quality</th>\n",
       "    </tr>\n",
       "  </thead>\n",
       "  <tbody>\n",
       "    <tr>\n",
       "      <th>0</th>\n",
       "      <td>11/20/2015</td>\n",
       "      <td>UJZDE8</td>\n",
       "      <td>5</td>\n",
       "      <td>Good</td>\n",
       "      <td>Good</td>\n",
       "      <td>Good</td>\n",
       "    </tr>\n",
       "    <tr>\n",
       "      <th>1</th>\n",
       "      <td>11/20/2015</td>\n",
       "      <td>UJZDE8</td>\n",
       "      <td>5</td>\n",
       "      <td>Good</td>\n",
       "      <td>Good</td>\n",
       "      <td>Good</td>\n",
       "    </tr>\n",
       "    <tr>\n",
       "      <th>2</th>\n",
       "      <td>11/20/2015</td>\n",
       "      <td>UJZDE8</td>\n",
       "      <td>5</td>\n",
       "      <td>Good</td>\n",
       "      <td>Good</td>\n",
       "      <td>Good</td>\n",
       "    </tr>\n",
       "    <tr>\n",
       "      <th>3</th>\n",
       "      <td>11/20/2015</td>\n",
       "      <td>UJZDE8</td>\n",
       "      <td>3</td>\n",
       "      <td>Improving</td>\n",
       "      <td>Good</td>\n",
       "      <td>Good</td>\n",
       "    </tr>\n",
       "    <tr>\n",
       "      <th>4</th>\n",
       "      <td>11/29/2015</td>\n",
       "      <td>GXD6NC</td>\n",
       "      <td>5</td>\n",
       "      <td>Good</td>\n",
       "      <td>Good</td>\n",
       "      <td>Good</td>\n",
       "    </tr>\n",
       "  </tbody>\n",
       "</table>\n",
       "</div>"
      ],
      "text/plain": [
       "         Date Partner  Score         UX Transaction Experience Process Quality\n",
       "0  11/20/2015  UJZDE8      5       Good                   Good            Good\n",
       "1  11/20/2015  UJZDE8      5       Good                   Good            Good\n",
       "2  11/20/2015  UJZDE8      5       Good                   Good            Good\n",
       "3  11/20/2015  UJZDE8      3  Improving                   Good            Good\n",
       "4  11/29/2015  GXD6NC      5       Good                   Good            Good"
      ]
     },
     "execution_count": 13,
     "metadata": {},
     "output_type": "execute_result"
    }
   ],
   "source": [
    "df2 = pd.read_csv('datasets/dataset2.csv')\n",
    "df2.head()"
   ]
  },
  {
   "cell_type": "code",
   "execution_count": 14,
   "metadata": {},
   "outputs": [
    {
     "data": {
      "text/html": [
       "<div>\n",
       "<style scoped>\n",
       "    .dataframe tbody tr th:only-of-type {\n",
       "        vertical-align: middle;\n",
       "    }\n",
       "\n",
       "    .dataframe tbody tr th {\n",
       "        vertical-align: top;\n",
       "    }\n",
       "\n",
       "    .dataframe thead th {\n",
       "        text-align: right;\n",
       "    }\n",
       "</style>\n",
       "<table border=\"1\" class=\"dataframe\">\n",
       "  <thead>\n",
       "    <tr style=\"text-align: right;\">\n",
       "      <th></th>\n",
       "      <th>Date</th>\n",
       "      <th>Partner</th>\n",
       "      <th>Score</th>\n",
       "      <th>UX</th>\n",
       "      <th>Transaction Experience</th>\n",
       "      <th>Process Quality</th>\n",
       "    </tr>\n",
       "  </thead>\n",
       "  <tbody>\n",
       "    <tr>\n",
       "      <th>636</th>\n",
       "      <td>11/17/2015</td>\n",
       "      <td>XO55ZB</td>\n",
       "      <td>5</td>\n",
       "      <td>Good</td>\n",
       "      <td>Good</td>\n",
       "      <td>Good</td>\n",
       "    </tr>\n",
       "    <tr>\n",
       "      <th>637</th>\n",
       "      <td>11/20/2015</td>\n",
       "      <td>XO55ZB</td>\n",
       "      <td>5</td>\n",
       "      <td>Good</td>\n",
       "      <td>Good</td>\n",
       "      <td>Good</td>\n",
       "    </tr>\n",
       "    <tr>\n",
       "      <th>638</th>\n",
       "      <td>11/24/2015</td>\n",
       "      <td>XO55ZB</td>\n",
       "      <td>5</td>\n",
       "      <td>Good</td>\n",
       "      <td>Good</td>\n",
       "      <td>Good</td>\n",
       "    </tr>\n",
       "    <tr>\n",
       "      <th>639</th>\n",
       "      <td>11/26/2015</td>\n",
       "      <td>XO55ZB</td>\n",
       "      <td>5</td>\n",
       "      <td>Improving</td>\n",
       "      <td>Good</td>\n",
       "      <td>Good</td>\n",
       "    </tr>\n",
       "    <tr>\n",
       "      <th>640</th>\n",
       "      <td>11/27/2015</td>\n",
       "      <td>XO55ZB</td>\n",
       "      <td>5</td>\n",
       "      <td>Good</td>\n",
       "      <td>Good</td>\n",
       "      <td>Good</td>\n",
       "    </tr>\n",
       "  </tbody>\n",
       "</table>\n",
       "</div>"
      ],
      "text/plain": [
       "           Date Partner  Score         UX Transaction Experience  \\\n",
       "636  11/17/2015  XO55ZB      5       Good                   Good   \n",
       "637  11/20/2015  XO55ZB      5       Good                   Good   \n",
       "638  11/24/2015  XO55ZB      5       Good                   Good   \n",
       "639  11/26/2015  XO55ZB      5  Improving                   Good   \n",
       "640  11/27/2015  XO55ZB      5       Good                   Good   \n",
       "\n",
       "    Process Quality  \n",
       "636            Good  \n",
       "637            Good  \n",
       "638            Good  \n",
       "639            Good  \n",
       "640            Good  "
      ]
     },
     "execution_count": 14,
     "metadata": {},
     "output_type": "execute_result"
    }
   ],
   "source": [
    "df2.tail()"
   ]
  },
  {
   "cell_type": "code",
   "execution_count": 15,
   "metadata": {},
   "outputs": [
    {
     "name": "stdout",
     "output_type": "stream",
     "text": [
      "<class 'pandas.core.frame.DataFrame'>\n",
      "RangeIndex: 641 entries, 0 to 640\n",
      "Data columns (total 6 columns):\n",
      "Date                      641 non-null object\n",
      "Partner                   641 non-null object\n",
      "Score                     641 non-null int64\n",
      "UX                        641 non-null object\n",
      "Transaction Experience    641 non-null object\n",
      "Process Quality           641 non-null object\n",
      "dtypes: int64(1), object(5)\n",
      "memory usage: 30.1+ KB\n"
     ]
    }
   ],
   "source": [
    "df2.info()"
   ]
  },
  {
   "cell_type": "markdown",
   "metadata": {},
   "source": [
    "### 2.1 - The average rating for business partners during a given time frame\n",
    "It is useful to know how business partners score during certain times. This can help improve certain business functions during holiday rushes or other such events. \n",
    "\n",
    "In this case, the week before Black Friday 2015 is examined (Nov. 16-20) and the average rating is calculated by slicing, grouping and then applying a mean function to the mean aggregation (i.e. mean of the mean)."
   ]
  },
  {
   "cell_type": "code",
   "execution_count": 16,
   "metadata": {},
   "outputs": [
    {
     "data": {
      "text/plain": [
       "4.42895168956875"
      ]
     },
     "execution_count": 16,
     "metadata": {},
     "output_type": "execute_result"
    }
   ],
   "source": [
    "df2[(df2['Date']>='11/16/2015') & (df2['Date']<='11/20/2015')].groupby('Partner')['Score'].mean().mean()"
   ]
  },
  {
   "cell_type": "markdown",
   "metadata": {},
   "source": [
    "### 2.2 - A case study of levelling up\n",
    "\n",
    "This was the bulk of the analysis for this particular business. The company has a policy of promoting well performing business partners to a \"Gold\" rating that has certain benefits and privileges. In order for a business partner to achieve this special status, it must achieve the following criteria:\n",
    "\n",
    "- Have a minimum of 10 user feedback instances\n",
    "- Have an average score of at least 4.0\n",
    "- Have a minimum of \"Good\" in across all categories for 90% of feedback\n",
    "\n",
    "To start this analysis, the user feedback is counted and only those partners with more than 10 feedback instances are selected."
   ]
  },
  {
   "cell_type": "code",
   "execution_count": 17,
   "metadata": {},
   "outputs": [
    {
     "data": {
      "text/plain": [
       "['64P2G1',\n",
       " '7Q9M2I',\n",
       " '886VOM',\n",
       " '91DHOD',\n",
       " '9EDN58',\n",
       " 'FJGVQ4',\n",
       " 'GXBENY',\n",
       " 'HYM4L1',\n",
       " 'J08XUI',\n",
       " 'J4WJ99',\n",
       " 'KKIBJ3',\n",
       " 'MEN2KH',\n",
       " 'OGZ5KO',\n",
       " 'P1ENTH',\n",
       " 'P5QA3E',\n",
       " 'Q7XKWO',\n",
       " 'RGN5S7',\n",
       " 'S6PUQ8',\n",
       " 'TIA4D5',\n",
       " 'TT7NS2',\n",
       " 'XO55ZB',\n",
       " 'ZZG4ZD']"
      ]
     },
     "execution_count": 17,
     "metadata": {},
     "output_type": "execute_result"
    }
   ],
   "source": [
    "df2_count = pd.DataFrame(df2.groupby('Partner')['Date'].count())\n",
    "df2_feedback_threshold = df2_count[df2_count['Date'] >= 10].index.values.tolist()\n",
    "df2_feedback_threshold"
   ]
  },
  {
   "cell_type": "markdown",
   "metadata": {},
   "source": [
    "Next, the score threshold is used to filter out partners that do not meet the minimum. The data frame is first sliced for some visual EDA."
   ]
  },
  {
   "cell_type": "code",
   "execution_count": 18,
   "metadata": {},
   "outputs": [
    {
     "data": {
      "text/html": [
       "<div>\n",
       "<style scoped>\n",
       "    .dataframe tbody tr th:only-of-type {\n",
       "        vertical-align: middle;\n",
       "    }\n",
       "\n",
       "    .dataframe tbody tr th {\n",
       "        vertical-align: top;\n",
       "    }\n",
       "\n",
       "    .dataframe thead th {\n",
       "        text-align: right;\n",
       "    }\n",
       "</style>\n",
       "<table border=\"1\" class=\"dataframe\">\n",
       "  <thead>\n",
       "    <tr style=\"text-align: right;\">\n",
       "      <th></th>\n",
       "      <th>Score</th>\n",
       "    </tr>\n",
       "    <tr>\n",
       "      <th>Partner</th>\n",
       "      <th></th>\n",
       "    </tr>\n",
       "  </thead>\n",
       "  <tbody>\n",
       "    <tr>\n",
       "      <th>64P2G1</th>\n",
       "      <td>4.440000</td>\n",
       "    </tr>\n",
       "    <tr>\n",
       "      <th>7Q9M2I</th>\n",
       "      <td>5.000000</td>\n",
       "    </tr>\n",
       "    <tr>\n",
       "      <th>886VOM</th>\n",
       "      <td>4.352941</td>\n",
       "    </tr>\n",
       "    <tr>\n",
       "      <th>91DHOD</th>\n",
       "      <td>4.466667</td>\n",
       "    </tr>\n",
       "    <tr>\n",
       "      <th>9EDN58</th>\n",
       "      <td>4.904762</td>\n",
       "    </tr>\n",
       "    <tr>\n",
       "      <th>FJGVQ4</th>\n",
       "      <td>4.400000</td>\n",
       "    </tr>\n",
       "    <tr>\n",
       "      <th>GXBENY</th>\n",
       "      <td>4.800000</td>\n",
       "    </tr>\n",
       "    <tr>\n",
       "      <th>J08XUI</th>\n",
       "      <td>4.916667</td>\n",
       "    </tr>\n",
       "    <tr>\n",
       "      <th>J4WJ99</th>\n",
       "      <td>5.000000</td>\n",
       "    </tr>\n",
       "    <tr>\n",
       "      <th>KKIBJ3</th>\n",
       "      <td>4.600000</td>\n",
       "    </tr>\n",
       "    <tr>\n",
       "      <th>MEN2KH</th>\n",
       "      <td>4.448276</td>\n",
       "    </tr>\n",
       "    <tr>\n",
       "      <th>OGZ5KO</th>\n",
       "      <td>4.500000</td>\n",
       "    </tr>\n",
       "    <tr>\n",
       "      <th>P1ENTH</th>\n",
       "      <td>4.432432</td>\n",
       "    </tr>\n",
       "    <tr>\n",
       "      <th>P5QA3E</th>\n",
       "      <td>4.785714</td>\n",
       "    </tr>\n",
       "    <tr>\n",
       "      <th>Q7XKWO</th>\n",
       "      <td>5.000000</td>\n",
       "    </tr>\n",
       "    <tr>\n",
       "      <th>RGN5S7</th>\n",
       "      <td>4.083333</td>\n",
       "    </tr>\n",
       "    <tr>\n",
       "      <th>TIA4D5</th>\n",
       "      <td>4.363636</td>\n",
       "    </tr>\n",
       "    <tr>\n",
       "      <th>TT7NS2</th>\n",
       "      <td>4.590909</td>\n",
       "    </tr>\n",
       "    <tr>\n",
       "      <th>XO55ZB</th>\n",
       "      <td>4.636364</td>\n",
       "    </tr>\n",
       "    <tr>\n",
       "      <th>ZZG4ZD</th>\n",
       "      <td>4.666667</td>\n",
       "    </tr>\n",
       "  </tbody>\n",
       "</table>\n",
       "</div>"
      ],
      "text/plain": [
       "            Score\n",
       "Partner          \n",
       "64P2G1   4.440000\n",
       "7Q9M2I   5.000000\n",
       "886VOM   4.352941\n",
       "91DHOD   4.466667\n",
       "9EDN58   4.904762\n",
       "FJGVQ4   4.400000\n",
       "GXBENY   4.800000\n",
       "J08XUI   4.916667\n",
       "J4WJ99   5.000000\n",
       "KKIBJ3   4.600000\n",
       "MEN2KH   4.448276\n",
       "OGZ5KO   4.500000\n",
       "P1ENTH   4.432432\n",
       "P5QA3E   4.785714\n",
       "Q7XKWO   5.000000\n",
       "RGN5S7   4.083333\n",
       "TIA4D5   4.363636\n",
       "TT7NS2   4.590909\n",
       "XO55ZB   4.636364\n",
       "ZZG4ZD   4.666667"
      ]
     },
     "execution_count": 18,
     "metadata": {},
     "output_type": "execute_result"
    }
   ],
   "source": [
    "df2_score_threshold = df2[df2['Partner'].isin(df2_feedback_threshold)]\n",
    "df2_score_threshold = pd.DataFrame(df2_score_threshold.groupby('Partner')['Score'].mean())\n",
    "df2_score_threshold[df2_score_threshold['Score'] >= 4.0]"
   ]
  },
  {
   "cell_type": "markdown",
   "metadata": {},
   "source": [
    "After verification, a list of values containing the partner ID is generated."
   ]
  },
  {
   "cell_type": "code",
   "execution_count": 19,
   "metadata": {},
   "outputs": [
    {
     "data": {
      "text/plain": [
       "['64P2G1',\n",
       " '7Q9M2I',\n",
       " '886VOM',\n",
       " '91DHOD',\n",
       " '9EDN58',\n",
       " 'FJGVQ4',\n",
       " 'GXBENY',\n",
       " 'J08XUI',\n",
       " 'J4WJ99',\n",
       " 'KKIBJ3',\n",
       " 'MEN2KH',\n",
       " 'OGZ5KO',\n",
       " 'P1ENTH',\n",
       " 'P5QA3E',\n",
       " 'Q7XKWO',\n",
       " 'RGN5S7',\n",
       " 'TIA4D5',\n",
       " 'TT7NS2',\n",
       " 'XO55ZB',\n",
       " 'ZZG4ZD']"
      ]
     },
     "execution_count": 19,
     "metadata": {},
     "output_type": "execute_result"
    }
   ],
   "source": [
    "df2_score_threshold = df2_score_threshold[df2_score_threshold['Score'] >= 4.0].index.values.tolist()\n",
    "df2_score_threshold"
   ]
  },
  {
   "cell_type": "markdown",
   "metadata": {},
   "source": [
    "The final filter will be to determine which business partners meet the criterion of more than 90% good feedback across all categories."
   ]
  },
  {
   "cell_type": "code",
   "execution_count": 20,
   "metadata": {},
   "outputs": [
    {
     "name": "stdout",
     "output_type": "stream",
     "text": [
      "Partner\n",
      "7Q9M2I    100.000000\n",
      "91DHOD     93.333333\n",
      "9EDN58    100.000000\n",
      "J08XUI    100.000000\n",
      "J4WJ99     92.307692\n",
      "KKIBJ3     90.000000\n",
      "dtype: float64\n",
      "\n",
      "Total partners with 90%+ Good ratings:  6\n"
     ]
    }
   ],
   "source": [
    "df2_categorical_threshold = df2[df2['Partner'].isin(df2_score_threshold)]\n",
    "df2_gold_possible = df2_categorical_threshold[(df2_categorical_threshold['UX']=='Good') &\n",
    "                                              (df2_categorical_threshold['Transaction Experience']=='Good') &\n",
    "                                              (df2_categorical_threshold['Process Quality']=='Good')].groupby('Partner').size() /\\\n",
    "                                               df2_categorical_threshold.groupby(['Partner'])[['UX',\n",
    "                                                                                               'Transaction Experience',\n",
    "                                                                                               'Process Quality']].size() * 100\n",
    "print(df2_gold_possible[df2_gold_possible >= 90.0])\n",
    "print(\"\\nTotal partners with 90%+ Good ratings: \", sum(df2_gold_possible >= 90.0))"
   ]
  },
  {
   "cell_type": "markdown",
   "metadata": {},
   "source": [
    "## 3. - Considerations for a production environment\n",
    "\n",
    "Generally speaking, when moving to production code one must follow the D.R.Y. principle: Do not Repeat Yourself. Therefore, it is always easier to establish functions for repetitive tasks such as periodic analysis of data that conveys the same information.\n",
    "\n",
    "In this particular case, if the company wanted to analyze which business partners are ready to qualify for \"Gold\" on a regular basis, it would be best to define a function that can automatically extract this information rather than explore the same data set every time. This also assumes that data labels and categories will remain unchanged. By abstracting the exploratory analysis above, a sequence of processes can be strung together in a custom function.\n",
    "\n",
    "To move a bit beyond the base data, I offered a recommendation that the three main criteria have default values so that in the future anybody can grab this function and also use it in a modelling capacity. By varying any or all of the three criteria and comparing with other references, the business can decide if lowering or raising the limits is beneficial or not."
   ]
  },
  {
   "cell_type": "code",
   "execution_count": 21,
   "metadata": {},
   "outputs": [
    {
     "name": "stdout",
     "output_type": "stream",
     "text": [
      "{'Mean rating': 4.0, 'Minimum reviews': 10, 'Minimum categorical %': 90.0} \n",
      " Partner\n",
      "7Q9M2I    100.000000\n",
      "91DHOD     93.333333\n",
      "9EDN58    100.000000\n",
      "J08XUI    100.000000\n",
      "J4WJ99     92.307692\n",
      "KKIBJ3     90.000000\n",
      "dtype: float64 \n",
      "Total partners ready for gold:  6 \n",
      "\n",
      "{'Mean rating': 4.5, 'Minimum reviews': 8, 'Minimum categorical %': 80.0} \n",
      " Partner\n",
      "7Q9M2I    100.000000\n",
      "9EDN58    100.000000\n",
      "GXBENY     80.000000\n",
      "J08XUI    100.000000\n",
      "J4WJ99     92.307692\n",
      "KKIBJ3     90.000000\n",
      "P5QA3E     85.714286\n",
      "Q7XKWO     84.615385\n",
      "XO55ZB     81.818182\n",
      "dtype: float64 \n",
      "Total partners ready for gold:  9 \n",
      "\n"
     ]
    }
   ],
   "source": [
    "def gold_potential(df, mean_rating=4.0, min_revs=10, min_cat_thresh=90.0):\n",
    "    \"\"\"\n",
    "    This function will filter a DataFrame for the specified criteria:\n",
    "    - Minimum sample size of reviews, min_revs: default = 10 reviews\n",
    "    - Avg. user rating, mean_rating: default = 4.0\n",
    "    - Min percentage of responses \"Good\" in all categories, min_cat_thresh: default = 90.0%\n",
    "    \"\"\"\n",
    "    criteria = {'Mean rating':mean_rating, \n",
    "                'Minimum reviews':min_revs,\n",
    "                'Minimum categorical %':min_cat_thresh}\n",
    "    \n",
    "    # Counting the miniumin specified reviews\n",
    "    df_feedback_count = pd.DataFrame(df.groupby('Partner')['Date'].count())\n",
    "    feedback_thresh_list = df_feedback_count[df_feedback_count['Date'] >= min_revs].index.values.tolist()\n",
    "    \n",
    "    # Adding minimum reviews as a filter and selecting an average rating greater than the specified minimum\n",
    "    df_score_thresh = df[df['Partner'].isin(feedback_thresh_list)]\n",
    "    df_score_thresh = pd.DataFrame(df_score_thresh.groupby('Partner')['Score'].mean())\n",
    "    score_thresh_list = df_score_thresh[df_score_thresh['Score'] >= mean_rating].index.values.tolist()\n",
    "    \n",
    "    # Finding which of the filtered data also has 90% Great in all categories\n",
    "    df_category_thresh = df[df['Partner'].isin(score_thresh_list)]\n",
    "    \n",
    "    categories_cols = ['UX', 'Transaction Experience', 'Process Quality']\n",
    "    \n",
    "    categories_check = ((df_category_thresh[categories_cols[0]]=='Good') & \n",
    "                        (df_category_thresh[categories_cols[1]]=='Good') &\n",
    "                        (df_category_thresh[categories_cols[2]]=='Good'))\n",
    "    \n",
    "    category_thresh_list = df_category_thresh[categories_check].groupby('Partner').size() /\\\n",
    "                                df_category_thresh.groupby(['Partner'])[categories_cols].size() * 100\n",
    "    \n",
    "    return print(criteria, \"\\n\", category_thresh_list[category_thresh_list >= min_cat_thresh],\n",
    "                 \"\\nTotal partners ready for gold: \", sum(category_thresh_list >= min_cat_thresh), \"\\n\")\n",
    "\n",
    "# Exploring various possibilites with the function\n",
    "gold_potential(df2)\n",
    "gold_potential(df2, mean_rating=4.5, min_revs=8, min_cat_thresh=80.0)"
   ]
  },
  {
   "cell_type": "markdown",
   "metadata": {},
   "source": [
    "### 3.1 - A pipeline concept\n",
    "\n",
    "Being limited in what I can demonstrate due to confidentiality, I chose to abstract at a high level what a potential production pipeline could look like. I'm generalizing here and these steps should adapt to a particular business's data environment and analytical use case.\n",
    "\n",
    "The data pipeline should contain these important steps:\n",
    "- Importing data\n",
    "- Cleaning data\n",
    "- Exploratory analysis\n",
    "- Data manipulation"
   ]
  },
  {
   "cell_type": "markdown",
   "metadata": {},
   "source": [
    "```python\n",
    "\n",
    "def file_import(files):\n",
    "    # Read in files with appropriate methods\n",
    "    \n",
    "def clean_import(df):\n",
    "    # Drop or backfill missing values\n",
    "    \n",
    "def explore_data(df):\n",
    "    # Find the most important features and correlations\n",
    "    # Apply visualizations if required\n",
    "    \n",
    "def data_manipulation(df):\n",
    "    # Combine and aggregate relevant data to gain insights\n",
    "    return business_intellegence\n",
    "```"
   ]
  },
  {
   "cell_type": "markdown",
   "metadata": {},
   "source": [
    "If using machine learning techniques it is the same up to data_manipulation, which becomes data_learning and has these additional steps:\n",
    "- Training and testing data\n",
    "- Model training\n",
    "- Model validation and metrics"
   ]
  },
  {
   "cell_type": "markdown",
   "metadata": {},
   "source": [
    "```python\n",
    "\n",
    "def file_import(files):\n",
    "    # Read in files with appropriate methods\n",
    "    \n",
    "def clean_import(df):\n",
    "    # Drop or backfill missing values\n",
    "    \n",
    "def explore_data(df):\n",
    "    # Find the most important features and correlations\n",
    "    # Apply visualizations if required\n",
    "\n",
    "def data_learning(df):\n",
    "    # Manipulate data and split into train and test sets\n",
    "    return training_data, test_data\n",
    "\n",
    "def train_model(training_data, test_data):\n",
    "    # Train machine learning model\n",
    "    return model\n",
    "\n",
    "def validate_model(train_test_split, model):\n",
    "    # Apply k-fold cross validation\n",
    "    # Generate metrics\n",
    "    return metrics\n",
    "```"
   ]
  }
 ],
 "metadata": {
  "kernelspec": {
   "display_name": "Python 3",
   "language": "python",
   "name": "python3"
  },
  "language_info": {
   "codemirror_mode": {
    "name": "ipython",
    "version": 3
   },
   "file_extension": ".py",
   "mimetype": "text/x-python",
   "name": "python",
   "nbconvert_exporter": "python",
   "pygments_lexer": "ipython3",
   "version": "3.6.5"
  }
 },
 "nbformat": 4,
 "nbformat_minor": 2
}
